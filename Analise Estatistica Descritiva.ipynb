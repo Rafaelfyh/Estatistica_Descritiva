{
 "cells": [
  {
   "cell_type": "markdown",
   "metadata": {},
   "source": [
    "# Analise Exploratória de Dados"
   ]
  },
  {
   "cell_type": "code",
   "execution_count": 218,
   "metadata": {},
   "outputs": [],
   "source": [
    "# Bibliotecas\n",
    "import pandas as pd\n",
    "import numpy as np\n",
    "import matplotlib.pyplot as plt\n",
    "import seaborn as sns"
   ]
  },
  {
   "cell_type": "code",
   "execution_count": 244,
   "metadata": {},
   "outputs": [
    {
     "name": "stdout",
     "output_type": "stream",
     "text": [
      "      Unnamed: 0  Income  Kidhome  Teenhome  Recency  MntWines  MntFruits  \\\n",
      "0              0   58138        0         0       58       635         88   \n",
      "1              1   46344        1         1       38        11          1   \n",
      "2              2   71613        0         0       26       426         49   \n",
      "3              3   26646        1         0       26        11          4   \n",
      "4              4   58293        1         0       94       173         43   \n",
      "...          ...     ...      ...       ...      ...       ...        ...   \n",
      "2200        2200   61223        0         1       46       709         43   \n",
      "2201        2201   64014        2         1       56       406          0   \n",
      "2202        2202   56981        0         0       91       908         48   \n",
      "2203        2203   69245        0         1        8       428         30   \n",
      "2204        2204   52869        1         1       40        84          3   \n",
      "\n",
      "      MntMeatProducts  MntFishProducts  MntSweetProducts  ...  education_PhD  \\\n",
      "0                 546              172                88  ...            NaN   \n",
      "1                   6                2                 1  ...            NaN   \n",
      "2                 127              111                21  ...            NaN   \n",
      "3                  20               10                 3  ...            NaN   \n",
      "4                 118               46                27  ...            5.0   \n",
      "...               ...              ...               ...  ...            ...   \n",
      "2200              182               42               118  ...            NaN   \n",
      "2201               30                0                 0  ...            5.0   \n",
      "2202              217               32                12  ...            NaN   \n",
      "2203              214               80                30  ...            NaN   \n",
      "2204               61                2                 1  ...            5.0   \n",
      "\n",
      "      MntTotal  MntRegularProds  AcceptedCmpOverall  marital_status  \\\n",
      "0         1529             1441                   0          Single   \n",
      "1           21               15                   0          Single   \n",
      "2          734              692                   0        Together   \n",
      "3           48               43                   0        Together   \n",
      "4          407              392                   0         Married   \n",
      "...        ...              ...                 ...             ...   \n",
      "2200      1094              847                   0         Married   \n",
      "2201       436              428                   1        Together   \n",
      "2202      1217             1193                   1        Divorced   \n",
      "2203       782              721                   0        Together   \n",
      "2204       151              130                   0         Married   \n",
      "\n",
      "      education_level  kids  expenses  Unnamed: 44  Unnamed: 45  \n",
      "0          Graduation     0      1529   Graduation  1113.000000  \n",
      "1          Graduation     2        21          PhD   476.000000  \n",
      "2          Graduation     0       734          NaN          NaN  \n",
      "3          Graduation     1        48          NaN     0.504762  \n",
      "4                 PhD     1       407          NaN     0.215873  \n",
      "...               ...   ...       ...          ...          ...  \n",
      "2200       Graduation     1      1094          NaN          NaN  \n",
      "2201              PhD     3       436          NaN          NaN  \n",
      "2202       Graduation     0      1217          NaN          NaN  \n",
      "2203           Master     1       782          NaN          NaN  \n",
      "2204              PhD     2       151          NaN          NaN  \n",
      "\n",
      "[2205 rows x 46 columns]\n"
     ]
    }
   ],
   "source": [
    "# Base de dados\n",
    "df = pd.read_excel('mkt_data (1).xlsx')\n",
    "print(df)"
   ]
  },
  {
   "cell_type": "code",
   "execution_count": 220,
   "metadata": {},
   "outputs": [
    {
     "name": "stdout",
     "output_type": "stream",
     "text": [
      "      Unnamed: 0  Income  Kidhome  Teenhome  Recency  MntWines  MntFruits  \\\n",
      "0              0   58138        0         0       58       635         88   \n",
      "1              1   46344        1         1       38        11          1   \n",
      "2              2   71613        0         0       26       426         49   \n",
      "3              3   26646        1         0       26        11          4   \n",
      "4              4   58293        1         0       94       173         43   \n",
      "...          ...     ...      ...       ...      ...       ...        ...   \n",
      "2200        2200   61223        0         1       46       709         43   \n",
      "2201        2201   64014        2         1       56       406          0   \n",
      "2202        2202   56981        0         0       91       908         48   \n",
      "2203        2203   69245        0         1        8       428         30   \n",
      "2204        2204   52869        1         1       40        84          3   \n",
      "\n",
      "      MntMeatProducts  MntFishProducts  MntSweetProducts  ...  education_PhD  \\\n",
      "0                 546              172                88  ...            NaN   \n",
      "1                   6                2                 1  ...            NaN   \n",
      "2                 127              111                21  ...            NaN   \n",
      "3                  20               10                 3  ...            NaN   \n",
      "4                 118               46                27  ...            5.0   \n",
      "...               ...              ...               ...  ...            ...   \n",
      "2200              182               42               118  ...            NaN   \n",
      "2201               30                0                 0  ...            5.0   \n",
      "2202              217               32                12  ...            NaN   \n",
      "2203              214               80                30  ...            NaN   \n",
      "2204               61                2                 1  ...            5.0   \n",
      "\n",
      "      MntTotal  MntRegularProds  AcceptedCmpOverall  marital_status  \\\n",
      "0         1529             1441                   0          Single   \n",
      "1           21               15                   0          Single   \n",
      "2          734              692                   0        Together   \n",
      "3           48               43                   0        Together   \n",
      "4          407              392                   0         Married   \n",
      "...        ...              ...                 ...             ...   \n",
      "2200      1094              847                   0         Married   \n",
      "2201       436              428                   1        Together   \n",
      "2202      1217             1193                   1        Divorced   \n",
      "2203       782              721                   0        Together   \n",
      "2204       151              130                   0         Married   \n",
      "\n",
      "      education_level  kids  expenses  Unnamed: 44  Unnamed: 45  \n",
      "0          Graduation     0      1529   Graduation  1113.000000  \n",
      "1          Graduation     2        21          PhD   476.000000  \n",
      "2          Graduation     0       734          NaN          NaN  \n",
      "3          Graduation     1        48          NaN     0.504762  \n",
      "4                 PhD     1       407          NaN     0.215873  \n",
      "...               ...   ...       ...          ...          ...  \n",
      "2200       Graduation     1      1094          NaN          NaN  \n",
      "2201              PhD     3       436          NaN          NaN  \n",
      "2202       Graduation     0      1217          NaN          NaN  \n",
      "2203           Master     1       782          NaN          NaN  \n",
      "2204              PhD     2       151          NaN          NaN  \n",
      "\n",
      "[2205 rows x 46 columns]\n"
     ]
    }
   ],
   "source": [
    "df.shape\n",
    "print(df)"
   ]
  },
  {
   "cell_type": "code",
   "execution_count": 221,
   "metadata": {},
   "outputs": [
    {
     "name": "stdout",
     "output_type": "stream",
     "text": [
      "   Unnamed: 0  Income  Kidhome  Teenhome  Recency  MntWines  MntFruits  \\\n",
      "0           0   58138        0         0       58       635         88   \n",
      "1           1   46344        1         1       38        11          1   \n",
      "2           2   71613        0         0       26       426         49   \n",
      "3           3   26646        1         0       26        11          4   \n",
      "4           4   58293        1         0       94       173         43   \n",
      "\n",
      "   MntMeatProducts  MntFishProducts  MntSweetProducts  ...  education_PhD  \\\n",
      "0              546              172                88  ...            NaN   \n",
      "1                6                2                 1  ...            NaN   \n",
      "2              127              111                21  ...            NaN   \n",
      "3               20               10                 3  ...            NaN   \n",
      "4              118               46                27  ...            5.0   \n",
      "\n",
      "   MntTotal  MntRegularProds  AcceptedCmpOverall  marital_status  \\\n",
      "0      1529             1441                   0          Single   \n",
      "1        21               15                   0          Single   \n",
      "2       734              692                   0        Together   \n",
      "3        48               43                   0        Together   \n",
      "4       407              392                   0         Married   \n",
      "\n",
      "   education_level  kids  expenses  Unnamed: 44  Unnamed: 45  \n",
      "0       Graduation     0      1529   Graduation  1113.000000  \n",
      "1       Graduation     2        21          PhD   476.000000  \n",
      "2       Graduation     0       734          NaN          NaN  \n",
      "3       Graduation     1        48          NaN     0.504762  \n",
      "4              PhD     1       407          NaN     0.215873  \n",
      "\n",
      "[5 rows x 46 columns]\n"
     ]
    }
   ],
   "source": [
    "# Exibir 5 primeiras linhas\n",
    "print(df.head())\n"
   ]
  },
  {
   "cell_type": "code",
   "execution_count": 222,
   "metadata": {},
   "outputs": [
    {
     "name": "stdout",
     "output_type": "stream",
     "text": [
      "      Unnamed: 0  Income  Kidhome  Teenhome  Recency  MntWines  MntFruits  \\\n",
      "2200        2200   61223        0         1       46       709         43   \n",
      "2201        2201   64014        2         1       56       406          0   \n",
      "2202        2202   56981        0         0       91       908         48   \n",
      "2203        2203   69245        0         1        8       428         30   \n",
      "2204        2204   52869        1         1       40        84          3   \n",
      "\n",
      "      MntMeatProducts  MntFishProducts  MntSweetProducts  ...  education_PhD  \\\n",
      "2200              182               42               118  ...            NaN   \n",
      "2201               30                0                 0  ...            5.0   \n",
      "2202              217               32                12  ...            NaN   \n",
      "2203              214               80                30  ...            NaN   \n",
      "2204               61                2                 1  ...            5.0   \n",
      "\n",
      "      MntTotal  MntRegularProds  AcceptedCmpOverall  marital_status  \\\n",
      "2200      1094              847                   0         Married   \n",
      "2201       436              428                   1        Together   \n",
      "2202      1217             1193                   1        Divorced   \n",
      "2203       782              721                   0        Together   \n",
      "2204       151              130                   0         Married   \n",
      "\n",
      "      education_level  kids  expenses  Unnamed: 44  Unnamed: 45  \n",
      "2200       Graduation     1      1094          NaN          NaN  \n",
      "2201              PhD     3       436          NaN          NaN  \n",
      "2202       Graduation     0      1217          NaN          NaN  \n",
      "2203           Master     1       782          NaN          NaN  \n",
      "2204              PhD     2       151          NaN          NaN  \n",
      "\n",
      "[5 rows x 46 columns]\n"
     ]
    }
   ],
   "source": [
    "# Exibir 5 ultimas linhas\n",
    "print (df.tail())"
   ]
  },
  {
   "cell_type": "markdown",
   "metadata": {},
   "source": [
    "### Estatistica Descritivas ###"
   ]
  },
  {
   "cell_type": "code",
   "execution_count": 223,
   "metadata": {},
   "outputs": [
    {
     "name": "stdout",
     "output_type": "stream",
     "text": [
      "        Unnamed: 0         Income      Kidhome     Teenhome      Recency  \\\n",
      "count  2205.000000    2205.000000  2205.000000  2205.000000  2205.000000   \n",
      "mean   1102.000000   51622.094785     0.442177     0.506576    49.009070   \n",
      "std     636.672993   20713.063826     0.537132     0.544380    28.932111   \n",
      "min       0.000000    1730.000000     0.000000     0.000000     0.000000   \n",
      "25%     551.000000   35196.000000     0.000000     0.000000    24.000000   \n",
      "50%    1102.000000   51287.000000     0.000000     0.000000    49.000000   \n",
      "75%    1653.000000   68281.000000     1.000000     1.000000    74.000000   \n",
      "max    2204.000000  113734.000000     2.000000     2.000000    99.000000   \n",
      "\n",
      "          MntWines    MntFruits  MntMeatProducts  MntFishProducts  \\\n",
      "count  2205.000000  2205.000000      2205.000000      2205.000000   \n",
      "mean    306.164626    26.403175       165.312018        37.756463   \n",
      "std     337.493839    39.784484       217.784507        54.824635   \n",
      "min       0.000000     0.000000         0.000000         0.000000   \n",
      "25%      24.000000     2.000000        16.000000         3.000000   \n",
      "50%     178.000000     8.000000        68.000000        12.000000   \n",
      "75%     507.000000    33.000000       232.000000        50.000000   \n",
      "max    1493.000000   199.000000      1725.000000       259.000000   \n",
      "\n",
      "       MntSweetProducts  ...  education_Basic  education_Graduation  \\\n",
      "count       2205.000000  ...             54.0                1113.0   \n",
      "mean          27.128345  ...              2.0                   3.0   \n",
      "std           41.130468  ...              0.0                   0.0   \n",
      "min            0.000000  ...              2.0                   3.0   \n",
      "25%            1.000000  ...              2.0                   3.0   \n",
      "50%            8.000000  ...              2.0                   3.0   \n",
      "75%           34.000000  ...              2.0                   3.0   \n",
      "max          262.000000  ...              2.0                   3.0   \n",
      "\n",
      "       education_Master  education_PhD     MntTotal  MntRegularProds  \\\n",
      "count             364.0          476.0  2205.000000      2205.000000   \n",
      "mean                4.0            5.0   562.764626       518.707483   \n",
      "std                 0.0            0.0   575.936911       553.847248   \n",
      "min                 4.0            5.0     4.000000      -283.000000   \n",
      "25%                 4.0            5.0    56.000000        42.000000   \n",
      "50%                 4.0            5.0   343.000000       288.000000   \n",
      "75%                 4.0            5.0   964.000000       884.000000   \n",
      "max                 4.0            5.0  2491.000000      2458.000000   \n",
      "\n",
      "       AcceptedCmpOverall         kids     expenses  Unnamed: 45  \n",
      "count          2205.00000  2205.000000  2205.000000     4.000000  \n",
      "mean              0.29932     0.948753   562.764626   397.430159  \n",
      "std               0.68044     0.749231   575.936911   527.112378  \n",
      "min               0.00000     0.000000     4.000000     0.215873  \n",
      "25%               0.00000     0.000000    56.000000     0.432540  \n",
      "50%               0.00000     1.000000   343.000000   238.252381  \n",
      "75%               0.00000     1.000000   964.000000   635.250000  \n",
      "max               4.00000     3.000000  2491.000000  1113.000000  \n",
      "\n",
      "[8 rows x 43 columns]\n"
     ]
    }
   ],
   "source": [
    "#Estatísticas descritivas para valores numéricos\n",
    "print(df.describe())\n"
   ]
  },
  {
   "cell_type": "markdown",
   "metadata": {},
   "source": [
    "### Consistência e Formatação ###"
   ]
  },
  {
   "cell_type": "code",
   "execution_count": 224,
   "metadata": {},
   "outputs": [
    {
     "name": "stdout",
     "output_type": "stream",
     "text": [
      "Colunas com float64:\n",
      "   marital_Divorced  marital_Married  marital_Single  marital_Together  \\\n",
      "0               NaN              NaN             4.0               NaN   \n",
      "1               NaN              NaN             4.0               NaN   \n",
      "2               NaN              NaN             NaN               3.0   \n",
      "3               NaN              NaN             NaN               3.0   \n",
      "4               NaN              5.0             NaN               NaN   \n",
      "\n",
      "   marital_Widow  education_2n Cycle  education_Basic  education_Graduation  \\\n",
      "0            NaN                 NaN              NaN                   3.0   \n",
      "1            NaN                 NaN              NaN                   3.0   \n",
      "2            NaN                 NaN              NaN                   3.0   \n",
      "3            NaN                 NaN              NaN                   3.0   \n",
      "4            NaN                 NaN              NaN                   NaN   \n",
      "\n",
      "   education_Master  education_PhD  Unnamed: 45  \n",
      "0               NaN            NaN  1113.000000  \n",
      "1               NaN            NaN   476.000000  \n",
      "2               NaN            NaN          NaN  \n",
      "3               NaN            NaN     0.504762  \n",
      "4               NaN            5.0     0.215873  \n"
     ]
    }
   ],
   "source": [
    "\n",
    "\n",
    "# Selecionar todas as colunas numéricas do tipo float64\n",
    "colunas_floats = df.select_dtypes(include=['float64'])\n",
    "\n",
    "# Mostrar as primeiras linhas das colunas float64\n",
    "print(\"Colunas com float64:\")\n",
    "print(colunas_floats.head())\n"
   ]
  },
  {
   "cell_type": "code",
   "execution_count": 243,
   "metadata": {},
   "outputs": [
    {
     "ename": "AttributeError",
     "evalue": "'tuple' object has no attribute 'columns'",
     "output_type": "error",
     "traceback": [
      "\u001b[1;31m---------------------------------------------------------------------------\u001b[0m",
      "\u001b[1;31mAttributeError\u001b[0m                            Traceback (most recent call last)",
      "Cell \u001b[1;32mIn[243], line 2\u001b[0m\n\u001b[0;32m      1\u001b[0m \u001b[38;5;66;03m# Remover espaços em branco nos nomes das colunas\u001b[39;00m\n\u001b[1;32m----> 2\u001b[0m df\u001b[38;5;241m.\u001b[39mcolumns \u001b[38;5;241m=\u001b[39m \u001b[43mdf\u001b[49m\u001b[38;5;241;43m.\u001b[39;49m\u001b[43mcolumns\u001b[49m\u001b[38;5;241m.\u001b[39mstr\u001b[38;5;241m.\u001b[39mstrip()\n\u001b[0;32m      3\u001b[0m df \u001b[38;5;241m=\u001b[39m df\u001b[38;5;241m.\u001b[39mcolumns\n\u001b[0;32m      4\u001b[0m \u001b[38;5;28mprint\u001b[39m(df)\n",
      "\u001b[1;31mAttributeError\u001b[0m: 'tuple' object has no attribute 'columns'"
     ]
    }
   ],
   "source": [
    "# Remover espaços em branco nos nomes das colunas\n",
    "df.columns = df.columns.str.strip()\n",
    "df = df.columns\n",
    "print(df)\n"
   ]
  },
  {
   "cell_type": "markdown",
   "metadata": {},
   "source": [
    "# Quantos dados temos? Linhas e colunas #"
   ]
  },
  {
   "cell_type": "code",
   "execution_count": 245,
   "metadata": {},
   "outputs": [
    {
     "data": {
      "text/html": [
       "<div>\n",
       "<style scoped>\n",
       "    .dataframe tbody tr th:only-of-type {\n",
       "        vertical-align: middle;\n",
       "    }\n",
       "\n",
       "    .dataframe tbody tr th {\n",
       "        vertical-align: top;\n",
       "    }\n",
       "\n",
       "    .dataframe thead th {\n",
       "        text-align: right;\n",
       "    }\n",
       "</style>\n",
       "<table border=\"1\" class=\"dataframe\">\n",
       "  <thead>\n",
       "    <tr style=\"text-align: right;\">\n",
       "      <th></th>\n",
       "      <th>Unnamed: 0</th>\n",
       "      <th>Income</th>\n",
       "      <th>Kidhome</th>\n",
       "      <th>Teenhome</th>\n",
       "      <th>Recency</th>\n",
       "      <th>MntWines</th>\n",
       "      <th>MntFruits</th>\n",
       "      <th>MntMeatProducts</th>\n",
       "      <th>MntFishProducts</th>\n",
       "      <th>MntSweetProducts</th>\n",
       "      <th>...</th>\n",
       "      <th>education_PhD</th>\n",
       "      <th>MntTotal</th>\n",
       "      <th>MntRegularProds</th>\n",
       "      <th>AcceptedCmpOverall</th>\n",
       "      <th>marital_status</th>\n",
       "      <th>education_level</th>\n",
       "      <th>kids</th>\n",
       "      <th>expenses</th>\n",
       "      <th>Unnamed: 44</th>\n",
       "      <th>Unnamed: 45</th>\n",
       "    </tr>\n",
       "  </thead>\n",
       "  <tbody>\n",
       "    <tr>\n",
       "      <th>0</th>\n",
       "      <td>0</td>\n",
       "      <td>58138</td>\n",
       "      <td>0</td>\n",
       "      <td>0</td>\n",
       "      <td>58</td>\n",
       "      <td>635</td>\n",
       "      <td>88</td>\n",
       "      <td>546</td>\n",
       "      <td>172</td>\n",
       "      <td>88</td>\n",
       "      <td>...</td>\n",
       "      <td>NaN</td>\n",
       "      <td>1529</td>\n",
       "      <td>1441</td>\n",
       "      <td>0</td>\n",
       "      <td>Single</td>\n",
       "      <td>Graduation</td>\n",
       "      <td>0</td>\n",
       "      <td>1529</td>\n",
       "      <td>Graduation</td>\n",
       "      <td>1113.000000</td>\n",
       "    </tr>\n",
       "    <tr>\n",
       "      <th>1</th>\n",
       "      <td>1</td>\n",
       "      <td>46344</td>\n",
       "      <td>1</td>\n",
       "      <td>1</td>\n",
       "      <td>38</td>\n",
       "      <td>11</td>\n",
       "      <td>1</td>\n",
       "      <td>6</td>\n",
       "      <td>2</td>\n",
       "      <td>1</td>\n",
       "      <td>...</td>\n",
       "      <td>NaN</td>\n",
       "      <td>21</td>\n",
       "      <td>15</td>\n",
       "      <td>0</td>\n",
       "      <td>Single</td>\n",
       "      <td>Graduation</td>\n",
       "      <td>2</td>\n",
       "      <td>21</td>\n",
       "      <td>PhD</td>\n",
       "      <td>476.000000</td>\n",
       "    </tr>\n",
       "    <tr>\n",
       "      <th>2</th>\n",
       "      <td>2</td>\n",
       "      <td>71613</td>\n",
       "      <td>0</td>\n",
       "      <td>0</td>\n",
       "      <td>26</td>\n",
       "      <td>426</td>\n",
       "      <td>49</td>\n",
       "      <td>127</td>\n",
       "      <td>111</td>\n",
       "      <td>21</td>\n",
       "      <td>...</td>\n",
       "      <td>NaN</td>\n",
       "      <td>734</td>\n",
       "      <td>692</td>\n",
       "      <td>0</td>\n",
       "      <td>Together</td>\n",
       "      <td>Graduation</td>\n",
       "      <td>0</td>\n",
       "      <td>734</td>\n",
       "      <td>NaN</td>\n",
       "      <td>NaN</td>\n",
       "    </tr>\n",
       "    <tr>\n",
       "      <th>3</th>\n",
       "      <td>3</td>\n",
       "      <td>26646</td>\n",
       "      <td>1</td>\n",
       "      <td>0</td>\n",
       "      <td>26</td>\n",
       "      <td>11</td>\n",
       "      <td>4</td>\n",
       "      <td>20</td>\n",
       "      <td>10</td>\n",
       "      <td>3</td>\n",
       "      <td>...</td>\n",
       "      <td>NaN</td>\n",
       "      <td>48</td>\n",
       "      <td>43</td>\n",
       "      <td>0</td>\n",
       "      <td>Together</td>\n",
       "      <td>Graduation</td>\n",
       "      <td>1</td>\n",
       "      <td>48</td>\n",
       "      <td>NaN</td>\n",
       "      <td>0.504762</td>\n",
       "    </tr>\n",
       "    <tr>\n",
       "      <th>4</th>\n",
       "      <td>4</td>\n",
       "      <td>58293</td>\n",
       "      <td>1</td>\n",
       "      <td>0</td>\n",
       "      <td>94</td>\n",
       "      <td>173</td>\n",
       "      <td>43</td>\n",
       "      <td>118</td>\n",
       "      <td>46</td>\n",
       "      <td>27</td>\n",
       "      <td>...</td>\n",
       "      <td>5.0</td>\n",
       "      <td>407</td>\n",
       "      <td>392</td>\n",
       "      <td>0</td>\n",
       "      <td>Married</td>\n",
       "      <td>PhD</td>\n",
       "      <td>1</td>\n",
       "      <td>407</td>\n",
       "      <td>NaN</td>\n",
       "      <td>0.215873</td>\n",
       "    </tr>\n",
       "    <tr>\n",
       "      <th>...</th>\n",
       "      <td>...</td>\n",
       "      <td>...</td>\n",
       "      <td>...</td>\n",
       "      <td>...</td>\n",
       "      <td>...</td>\n",
       "      <td>...</td>\n",
       "      <td>...</td>\n",
       "      <td>...</td>\n",
       "      <td>...</td>\n",
       "      <td>...</td>\n",
       "      <td>...</td>\n",
       "      <td>...</td>\n",
       "      <td>...</td>\n",
       "      <td>...</td>\n",
       "      <td>...</td>\n",
       "      <td>...</td>\n",
       "      <td>...</td>\n",
       "      <td>...</td>\n",
       "      <td>...</td>\n",
       "      <td>...</td>\n",
       "      <td>...</td>\n",
       "    </tr>\n",
       "    <tr>\n",
       "      <th>2200</th>\n",
       "      <td>2200</td>\n",
       "      <td>61223</td>\n",
       "      <td>0</td>\n",
       "      <td>1</td>\n",
       "      <td>46</td>\n",
       "      <td>709</td>\n",
       "      <td>43</td>\n",
       "      <td>182</td>\n",
       "      <td>42</td>\n",
       "      <td>118</td>\n",
       "      <td>...</td>\n",
       "      <td>NaN</td>\n",
       "      <td>1094</td>\n",
       "      <td>847</td>\n",
       "      <td>0</td>\n",
       "      <td>Married</td>\n",
       "      <td>Graduation</td>\n",
       "      <td>1</td>\n",
       "      <td>1094</td>\n",
       "      <td>NaN</td>\n",
       "      <td>NaN</td>\n",
       "    </tr>\n",
       "    <tr>\n",
       "      <th>2201</th>\n",
       "      <td>2201</td>\n",
       "      <td>64014</td>\n",
       "      <td>2</td>\n",
       "      <td>1</td>\n",
       "      <td>56</td>\n",
       "      <td>406</td>\n",
       "      <td>0</td>\n",
       "      <td>30</td>\n",
       "      <td>0</td>\n",
       "      <td>0</td>\n",
       "      <td>...</td>\n",
       "      <td>5.0</td>\n",
       "      <td>436</td>\n",
       "      <td>428</td>\n",
       "      <td>1</td>\n",
       "      <td>Together</td>\n",
       "      <td>PhD</td>\n",
       "      <td>3</td>\n",
       "      <td>436</td>\n",
       "      <td>NaN</td>\n",
       "      <td>NaN</td>\n",
       "    </tr>\n",
       "    <tr>\n",
       "      <th>2202</th>\n",
       "      <td>2202</td>\n",
       "      <td>56981</td>\n",
       "      <td>0</td>\n",
       "      <td>0</td>\n",
       "      <td>91</td>\n",
       "      <td>908</td>\n",
       "      <td>48</td>\n",
       "      <td>217</td>\n",
       "      <td>32</td>\n",
       "      <td>12</td>\n",
       "      <td>...</td>\n",
       "      <td>NaN</td>\n",
       "      <td>1217</td>\n",
       "      <td>1193</td>\n",
       "      <td>1</td>\n",
       "      <td>Divorced</td>\n",
       "      <td>Graduation</td>\n",
       "      <td>0</td>\n",
       "      <td>1217</td>\n",
       "      <td>NaN</td>\n",
       "      <td>NaN</td>\n",
       "    </tr>\n",
       "    <tr>\n",
       "      <th>2203</th>\n",
       "      <td>2203</td>\n",
       "      <td>69245</td>\n",
       "      <td>0</td>\n",
       "      <td>1</td>\n",
       "      <td>8</td>\n",
       "      <td>428</td>\n",
       "      <td>30</td>\n",
       "      <td>214</td>\n",
       "      <td>80</td>\n",
       "      <td>30</td>\n",
       "      <td>...</td>\n",
       "      <td>NaN</td>\n",
       "      <td>782</td>\n",
       "      <td>721</td>\n",
       "      <td>0</td>\n",
       "      <td>Together</td>\n",
       "      <td>Master</td>\n",
       "      <td>1</td>\n",
       "      <td>782</td>\n",
       "      <td>NaN</td>\n",
       "      <td>NaN</td>\n",
       "    </tr>\n",
       "    <tr>\n",
       "      <th>2204</th>\n",
       "      <td>2204</td>\n",
       "      <td>52869</td>\n",
       "      <td>1</td>\n",
       "      <td>1</td>\n",
       "      <td>40</td>\n",
       "      <td>84</td>\n",
       "      <td>3</td>\n",
       "      <td>61</td>\n",
       "      <td>2</td>\n",
       "      <td>1</td>\n",
       "      <td>...</td>\n",
       "      <td>5.0</td>\n",
       "      <td>151</td>\n",
       "      <td>130</td>\n",
       "      <td>0</td>\n",
       "      <td>Married</td>\n",
       "      <td>PhD</td>\n",
       "      <td>2</td>\n",
       "      <td>151</td>\n",
       "      <td>NaN</td>\n",
       "      <td>NaN</td>\n",
       "    </tr>\n",
       "  </tbody>\n",
       "</table>\n",
       "<p>2205 rows × 46 columns</p>\n",
       "</div>"
      ],
      "text/plain": [
       "      Unnamed: 0  Income  Kidhome  Teenhome  Recency  MntWines  MntFruits  \\\n",
       "0              0   58138        0         0       58       635         88   \n",
       "1              1   46344        1         1       38        11          1   \n",
       "2              2   71613        0         0       26       426         49   \n",
       "3              3   26646        1         0       26        11          4   \n",
       "4              4   58293        1         0       94       173         43   \n",
       "...          ...     ...      ...       ...      ...       ...        ...   \n",
       "2200        2200   61223        0         1       46       709         43   \n",
       "2201        2201   64014        2         1       56       406          0   \n",
       "2202        2202   56981        0         0       91       908         48   \n",
       "2203        2203   69245        0         1        8       428         30   \n",
       "2204        2204   52869        1         1       40        84          3   \n",
       "\n",
       "      MntMeatProducts  MntFishProducts  MntSweetProducts  ...  education_PhD  \\\n",
       "0                 546              172                88  ...            NaN   \n",
       "1                   6                2                 1  ...            NaN   \n",
       "2                 127              111                21  ...            NaN   \n",
       "3                  20               10                 3  ...            NaN   \n",
       "4                 118               46                27  ...            5.0   \n",
       "...               ...              ...               ...  ...            ...   \n",
       "2200              182               42               118  ...            NaN   \n",
       "2201               30                0                 0  ...            5.0   \n",
       "2202              217               32                12  ...            NaN   \n",
       "2203              214               80                30  ...            NaN   \n",
       "2204               61                2                 1  ...            5.0   \n",
       "\n",
       "      MntTotal  MntRegularProds  AcceptedCmpOverall  marital_status  \\\n",
       "0         1529             1441                   0          Single   \n",
       "1           21               15                   0          Single   \n",
       "2          734              692                   0        Together   \n",
       "3           48               43                   0        Together   \n",
       "4          407              392                   0         Married   \n",
       "...        ...              ...                 ...             ...   \n",
       "2200      1094              847                   0         Married   \n",
       "2201       436              428                   1        Together   \n",
       "2202      1217             1193                   1        Divorced   \n",
       "2203       782              721                   0        Together   \n",
       "2204       151              130                   0         Married   \n",
       "\n",
       "      education_level  kids  expenses  Unnamed: 44  Unnamed: 45  \n",
       "0          Graduation     0      1529   Graduation  1113.000000  \n",
       "1          Graduation     2        21          PhD   476.000000  \n",
       "2          Graduation     0       734          NaN          NaN  \n",
       "3          Graduation     1        48          NaN     0.504762  \n",
       "4                 PhD     1       407          NaN     0.215873  \n",
       "...               ...   ...       ...          ...          ...  \n",
       "2200       Graduation     1      1094          NaN          NaN  \n",
       "2201              PhD     3       436          NaN          NaN  \n",
       "2202       Graduation     0      1217          NaN          NaN  \n",
       "2203           Master     1       782          NaN          NaN  \n",
       "2204              PhD     2       151          NaN          NaN  \n",
       "\n",
       "[2205 rows x 46 columns]"
      ]
     },
     "execution_count": 245,
     "metadata": {},
     "output_type": "execute_result"
    }
   ],
   "source": [
    "df"
   ]
  },
  {
   "cell_type": "code",
   "execution_count": 248,
   "metadata": {},
   "outputs": [
    {
     "data": {
      "text/plain": [
       "(2205, 46)"
      ]
     },
     "execution_count": 248,
     "metadata": {},
     "output_type": "execute_result"
    }
   ],
   "source": [
    "#Linhas e colunas\n",
    "df.shape"
   ]
  },
  {
   "cell_type": "markdown",
   "metadata": {},
   "source": [
    "*Nesta base nós temos 2205 linhas e 44 colunas*"
   ]
  },
  {
   "cell_type": "markdown",
   "metadata": {},
   "source": [
    "### Quais são as colunas numéricas? ###"
   ]
  },
  {
   "cell_type": "code",
   "execution_count": 249,
   "metadata": {},
   "outputs": [
    {
     "name": "stdout",
     "output_type": "stream",
     "text": [
      "<class 'pandas.core.frame.DataFrame'>\n",
      "RangeIndex: 2205 entries, 0 to 2204\n",
      "Data columns (total 46 columns):\n",
      " #   Column                Non-Null Count  Dtype  \n",
      "---  ------                --------------  -----  \n",
      " 0   Unnamed: 0            2205 non-null   int64  \n",
      " 1   Income                2205 non-null   int64  \n",
      " 2   Kidhome               2205 non-null   int64  \n",
      " 3   Teenhome              2205 non-null   int64  \n",
      " 4   Recency               2205 non-null   int64  \n",
      " 5   MntWines              2205 non-null   int64  \n",
      " 6   MntFruits             2205 non-null   int64  \n",
      " 7   MntMeatProducts       2205 non-null   int64  \n",
      " 8   MntFishProducts       2205 non-null   int64  \n",
      " 9   MntSweetProducts      2205 non-null   int64  \n",
      " 10  MntGoldProds          2205 non-null   int64  \n",
      " 11  NumDealsPurchases     2205 non-null   int64  \n",
      " 12  NumWebPurchases       2205 non-null   int64  \n",
      " 13  NumCatalogPurchases   2205 non-null   int64  \n",
      " 14  NumStorePurchases     2205 non-null   int64  \n",
      " 15  NumWebVisitsMonth     2205 non-null   int64  \n",
      " 16  AcceptedCmp3          2205 non-null   int64  \n",
      " 17  AcceptedCmp4          2205 non-null   int64  \n",
      " 18  AcceptedCmp5          2205 non-null   int64  \n",
      " 19  AcceptedCmp1          2205 non-null   int64  \n",
      " 20  AcceptedCmp2          2205 non-null   int64  \n",
      " 21  Complain              2205 non-null   int64  \n",
      " 22  Z_CostContact         2205 non-null   int64  \n",
      " 23  Z_Revenue             2205 non-null   int64  \n",
      " 24  Response              2205 non-null   int64  \n",
      " 25  Age                   2205 non-null   int64  \n",
      " 26  Customer_Days         2205 non-null   int64  \n",
      " 27  marital_Divorced      230 non-null    float64\n",
      " 28  marital_Married       854 non-null    float64\n",
      " 29  marital_Single        477 non-null    float64\n",
      " 30  marital_Together      568 non-null    float64\n",
      " 31  marital_Widow         76 non-null     float64\n",
      " 32  education_2n Cycle    198 non-null    float64\n",
      " 33  education_Basic       54 non-null     float64\n",
      " 34  education_Graduation  1113 non-null   float64\n",
      " 35  education_Master      364 non-null    float64\n",
      " 36  education_PhD         476 non-null    float64\n",
      " 37  MntTotal              2205 non-null   int64  \n",
      " 38  MntRegularProds       2205 non-null   int64  \n",
      " 39  AcceptedCmpOverall    2205 non-null   int64  \n",
      " 40  marital_status        2205 non-null   object \n",
      " 41  education_level       2205 non-null   object \n",
      " 42  kids                  2205 non-null   int64  \n",
      " 43  expenses              2205 non-null   int64  \n",
      " 44  Unnamed: 44           2 non-null      object \n",
      " 45  Unnamed: 45           4 non-null      float64\n",
      "dtypes: float64(11), int64(32), object(3)\n",
      "memory usage: 792.6+ KB\n"
     ]
    }
   ],
   "source": [
    "#mostrando todos os tipos de colunas\n",
    "df.info()"
   ]
  },
  {
   "cell_type": "code",
   "execution_count": 250,
   "metadata": {},
   "outputs": [
    {
     "name": "stdout",
     "output_type": "stream",
     "text": [
      "marital_Divorced        1975\n",
      "marital_Married         1351\n",
      "marital_Single          1728\n",
      "marital_Together        1637\n",
      "marital_Widow           2129\n",
      "education_2n Cycle      2007\n",
      "education_Basic         2151\n",
      "education_Graduation    1092\n",
      "education_Master        1841\n",
      "education_PhD           1729\n",
      "Unnamed: 44             2203\n",
      "Unnamed: 45             2201\n",
      "dtype: int64\n"
     ]
    }
   ],
   "source": [
    "# Verificar valores ausentes\n",
    "valores_ausentes = df.isnull().sum()\n",
    "\n",
    "# Mostrar colunas com valores ausentes\n",
    "print(valores_ausentes[valores_ausentes > 0])\n"
   ]
  },
  {
   "cell_type": "markdown",
   "metadata": {},
   "source": [
    "*Verificando tipos de dados int, float, object*"
   ]
  },
  {
   "cell_type": "code",
   "execution_count": 251,
   "metadata": {},
   "outputs": [],
   "source": [
    "# Remover as colunas com muitos valores nulos\n",
    "df = df.drop(columns=['Unnamed: 44', 'Unnamed: 45'])\n"
   ]
  },
  {
   "cell_type": "code",
   "execution_count": 252,
   "metadata": {},
   "outputs": [
    {
     "name": "stdout",
     "output_type": "stream",
     "text": [
      "Unnamed: 0                 0\n",
      "Income                     0\n",
      "Kidhome                    0\n",
      "Teenhome                   0\n",
      "Recency                    0\n",
      "MntWines                   0\n",
      "MntFruits                  0\n",
      "MntMeatProducts            0\n",
      "MntFishProducts            0\n",
      "MntSweetProducts           0\n",
      "MntGoldProds               0\n",
      "NumDealsPurchases          0\n",
      "NumWebPurchases            0\n",
      "NumCatalogPurchases        0\n",
      "NumStorePurchases          0\n",
      "NumWebVisitsMonth          0\n",
      "AcceptedCmp3               0\n",
      "AcceptedCmp4               0\n",
      "AcceptedCmp5               0\n",
      "AcceptedCmp1               0\n",
      "AcceptedCmp2               0\n",
      "Complain                   0\n",
      "Z_CostContact              0\n",
      "Z_Revenue                  0\n",
      "Response                   0\n",
      "Age                        0\n",
      "Customer_Days              0\n",
      "marital_Divorced        1975\n",
      "marital_Married         1351\n",
      "marital_Single          1728\n",
      "marital_Together        1637\n",
      "marital_Widow           2129\n",
      "education_2n Cycle      2007\n",
      "education_Basic         2151\n",
      "education_Graduation    1092\n",
      "education_Master        1841\n",
      "education_PhD           1729\n",
      "MntTotal                   0\n",
      "MntRegularProds            0\n",
      "AcceptedCmpOverall         0\n",
      "marital_status             0\n",
      "education_level            0\n",
      "kids                       0\n",
      "expenses                   0\n",
      "dtype: int64\n"
     ]
    }
   ],
   "source": [
    "# Verificar se há valores nulos nas colunas restantes\n",
    "nulos_restantes = df.isnull().sum()\n",
    "\n",
    "# Mostrar a quantidade de valores nulos por coluna\n",
    "print(nulos_restantes)\n"
   ]
  },
  {
   "cell_type": "code",
   "execution_count": 253,
   "metadata": {},
   "outputs": [
    {
     "name": "stdout",
     "output_type": "stream",
     "text": [
      "Unnamed: 0                 0\n",
      "Income                     0\n",
      "Kidhome                    0\n",
      "Teenhome                   0\n",
      "Recency                    0\n",
      "MntWines                   0\n",
      "MntFruits                  0\n",
      "MntMeatProducts            0\n",
      "MntFishProducts            0\n",
      "MntSweetProducts           0\n",
      "MntGoldProds               0\n",
      "NumDealsPurchases          0\n",
      "NumWebPurchases            0\n",
      "NumCatalogPurchases        0\n",
      "NumStorePurchases          0\n",
      "NumWebVisitsMonth          0\n",
      "AcceptedCmp3               0\n",
      "AcceptedCmp4               0\n",
      "AcceptedCmp5               0\n",
      "AcceptedCmp1               0\n",
      "AcceptedCmp2               0\n",
      "Complain                   0\n",
      "Z_CostContact              0\n",
      "Z_Revenue                  0\n",
      "Response                   0\n",
      "Age                        0\n",
      "Customer_Days              0\n",
      "marital_Divorced        1975\n",
      "marital_Married         1351\n",
      "marital_Single          1728\n",
      "marital_Together        1637\n",
      "marital_Widow           2129\n",
      "education_2n Cycle      2007\n",
      "education_Basic         2151\n",
      "education_Graduation    1092\n",
      "education_Master        1841\n",
      "education_PhD           1729\n",
      "MntTotal                   0\n",
      "MntRegularProds            0\n",
      "AcceptedCmpOverall         0\n",
      "marital_status             0\n",
      "education_level            0\n",
      "kids                       0\n",
      "expenses                   0\n",
      "dtype: int64\n",
      "        Unnamed: 0         Income      Kidhome     Teenhome      Recency  \\\n",
      "count  2205.000000    2205.000000  2205.000000  2205.000000  2205.000000   \n",
      "mean   1102.000000   51622.094785     0.442177     0.506576    49.009070   \n",
      "std     636.672993   20713.063826     0.537132     0.544380    28.932111   \n",
      "min       0.000000    1730.000000     0.000000     0.000000     0.000000   \n",
      "25%     551.000000   35196.000000     0.000000     0.000000    24.000000   \n",
      "50%    1102.000000   51287.000000     0.000000     0.000000    49.000000   \n",
      "75%    1653.000000   68281.000000     1.000000     1.000000    74.000000   \n",
      "max    2204.000000  113734.000000     2.000000     2.000000    99.000000   \n",
      "\n",
      "          MntWines    MntFruits  MntMeatProducts  MntFishProducts  \\\n",
      "count  2205.000000  2205.000000      2205.000000      2205.000000   \n",
      "mean    306.164626    26.403175       165.312018        37.756463   \n",
      "std     337.493839    39.784484       217.784507        54.824635   \n",
      "min       0.000000     0.000000         0.000000         0.000000   \n",
      "25%      24.000000     2.000000        16.000000         3.000000   \n",
      "50%     178.000000     8.000000        68.000000        12.000000   \n",
      "75%     507.000000    33.000000       232.000000        50.000000   \n",
      "max    1493.000000   199.000000      1725.000000       259.000000   \n",
      "\n",
      "       MntSweetProducts  ...  education_2n Cycle  education_Basic  \\\n",
      "count       2205.000000  ...               198.0             54.0   \n",
      "mean          27.128345  ...                 1.0              2.0   \n",
      "std           41.130468  ...                 0.0              0.0   \n",
      "min            0.000000  ...                 1.0              2.0   \n",
      "25%            1.000000  ...                 1.0              2.0   \n",
      "50%            8.000000  ...                 1.0              2.0   \n",
      "75%           34.000000  ...                 1.0              2.0   \n",
      "max          262.000000  ...                 1.0              2.0   \n",
      "\n",
      "       education_Graduation  education_Master  education_PhD     MntTotal  \\\n",
      "count                1113.0             364.0          476.0  2205.000000   \n",
      "mean                    3.0               4.0            5.0   562.764626   \n",
      "std                     0.0               0.0            0.0   575.936911   \n",
      "min                     3.0               4.0            5.0     4.000000   \n",
      "25%                     3.0               4.0            5.0    56.000000   \n",
      "50%                     3.0               4.0            5.0   343.000000   \n",
      "75%                     3.0               4.0            5.0   964.000000   \n",
      "max                     3.0               4.0            5.0  2491.000000   \n",
      "\n",
      "       MntRegularProds  AcceptedCmpOverall         kids     expenses  \n",
      "count      2205.000000          2205.00000  2205.000000  2205.000000  \n",
      "mean        518.707483             0.29932     0.948753   562.764626  \n",
      "std         553.847248             0.68044     0.749231   575.936911  \n",
      "min        -283.000000             0.00000     0.000000     4.000000  \n",
      "25%          42.000000             0.00000     0.000000    56.000000  \n",
      "50%         288.000000             0.00000     1.000000   343.000000  \n",
      "75%         884.000000             0.00000     1.000000   964.000000  \n",
      "max        2458.000000             4.00000     3.000000  2491.000000  \n",
      "\n",
      "[8 rows x 42 columns]\n",
      "\n",
      "Distribuição da coluna marital_status:\n",
      "marital_status\n",
      "Married     854\n",
      "Together    568\n",
      "Single      477\n",
      "Divorced    230\n",
      "Widow        76\n",
      "Name: count, dtype: int64\n",
      "\n",
      "Distribuição da coluna education_level:\n",
      "education_level\n",
      "Graduation    1113\n",
      "PhD            476\n",
      "Master         364\n",
      "2n Cycle       198\n",
      "Basic           54\n",
      "Name: count, dtype: int64\n"
     ]
    }
   ],
   "source": [
    "# Verificar valores nulos nas colunas numéricas\n",
    "print(df.isnull().sum())\n",
    "\n",
    "# Estatísticas descritivas para colunas numéricas\n",
    "print(df.describe())\n",
    "\n",
    "# Distribuição dos dados nas colunas categóricas\n",
    "for col in df.select_dtypes(include=['object']).columns:\n",
    "    print(f\"\\nDistribuição da coluna {col}:\")\n",
    "    print(df[col].value_counts())\n"
   ]
  },
  {
   "cell_type": "markdown",
   "metadata": {},
   "source": [
    "### Capturando todas colunas numéricas ###"
   ]
  },
  {
   "cell_type": "code",
   "execution_count": 254,
   "metadata": {},
   "outputs": [
    {
     "data": {
      "text/plain": [
       "Index(['Unnamed: 0', 'Income', 'Kidhome', 'Teenhome', 'Recency', 'MntWines',\n",
       "       'MntFruits', 'MntMeatProducts', 'MntFishProducts', 'MntSweetProducts',\n",
       "       'MntGoldProds', 'NumDealsPurchases', 'NumWebPurchases',\n",
       "       'NumCatalogPurchases', 'NumStorePurchases', 'NumWebVisitsMonth',\n",
       "       'AcceptedCmp3', 'AcceptedCmp4', 'AcceptedCmp5', 'AcceptedCmp1',\n",
       "       'AcceptedCmp2', 'Complain', 'Z_CostContact', 'Z_Revenue', 'Response',\n",
       "       'Age', 'Customer_Days', 'marital_Divorced', 'marital_Married',\n",
       "       'marital_Single', 'marital_Together', 'marital_Widow',\n",
       "       'education_2n Cycle', 'education_Basic', 'education_Graduation',\n",
       "       'education_Master', 'education_PhD', 'MntTotal', 'MntRegularProds',\n",
       "       'AcceptedCmpOverall', 'kids', 'expenses'],\n",
       "      dtype='object')"
      ]
     },
     "execution_count": 254,
     "metadata": {},
     "output_type": "execute_result"
    }
   ],
   "source": [
    "#selecionando apenas as numéricas: aqui colocamos todos os formatos que o Python reconhece como numérico.\n",
    "colunas_numericas = ['int16', 'int32', 'int64', 'float16', 'float32', 'float64']\n",
    "\n",
    "#df.select_dtypes(include=numerics): Seleciona colunas que correspondem aos tipos de dados especificados na lista numericos\n",
    "df.select_dtypes(include=colunas_numericas).columns "
   ]
  },
  {
   "cell_type": "code",
   "execution_count": 255,
   "metadata": {},
   "outputs": [],
   "source": [
    "if 'Unnamed: 0' in df.columns:\n",
    "    df = df.drop(columns=['Unnamed: 0'])\n",
    "else:\n",
    "    print(\"A coluna 'Unnamed: 0' não existe no DataFrame.\")\n"
   ]
  },
  {
   "cell_type": "markdown",
   "metadata": {},
   "source": [
    "### Temos duplicados na nossa base? Se tivermos, retire-os ###"
   ]
  },
  {
   "cell_type": "code",
   "execution_count": 256,
   "metadata": {},
   "outputs": [
    {
     "name": "stdout",
     "output_type": "stream",
     "text": [
      "184\n",
      "True\n"
     ]
    }
   ],
   "source": [
    "# Verificar a quantidade de linhas duplicadas\n",
    "print(df.duplicated().sum())\n",
    "\n",
    "# Verificar a existencia de duplicados\n",
    "print(df.duplicated().any())"
   ]
  },
  {
   "cell_type": "markdown",
   "metadata": {},
   "source": [
    "*Nao existe duplicadas nesta base de dados*"
   ]
  },
  {
   "cell_type": "code",
   "execution_count": 257,
   "metadata": {},
   "outputs": [
    {
     "name": "stdout",
     "output_type": "stream",
     "text": [
      "A coluna 'Unnamed: 0' não existe no DataFrame.\n"
     ]
    }
   ],
   "source": [
    "if 'Unnamed: 0' in df.columns:\n",
    "    df = df.drop(columns=['Unnamed: 0'])\n",
    "else:\n",
    "    print(\"A coluna 'Unnamed: 0' não existe no DataFrame.\")\n"
   ]
  },
  {
   "cell_type": "markdown",
   "metadata": {},
   "source": [
    "### Temos dados nulos nessa base? Será que eles indicam algo? O que fazer com eles? ###"
   ]
  },
  {
   "cell_type": "code",
   "execution_count": 258,
   "metadata": {},
   "outputs": [
    {
     "name": "stdout",
     "output_type": "stream",
     "text": [
      "Income                     0\n",
      "Kidhome                    0\n",
      "Teenhome                   0\n",
      "Recency                    0\n",
      "MntWines                   0\n",
      "MntFruits                  0\n",
      "MntMeatProducts            0\n",
      "MntFishProducts            0\n",
      "MntSweetProducts           0\n",
      "MntGoldProds               0\n",
      "NumDealsPurchases          0\n",
      "NumWebPurchases            0\n",
      "NumCatalogPurchases        0\n",
      "NumStorePurchases          0\n",
      "NumWebVisitsMonth          0\n",
      "AcceptedCmp3               0\n",
      "AcceptedCmp4               0\n",
      "AcceptedCmp5               0\n",
      "AcceptedCmp1               0\n",
      "AcceptedCmp2               0\n",
      "Complain                   0\n",
      "Z_CostContact              0\n",
      "Z_Revenue                  0\n",
      "Response                   0\n",
      "Age                        0\n",
      "Customer_Days              0\n",
      "marital_Divorced        1975\n",
      "marital_Married         1351\n",
      "marital_Single          1728\n",
      "marital_Together        1637\n",
      "marital_Widow           2129\n",
      "education_2n Cycle      2007\n",
      "education_Basic         2151\n",
      "education_Graduation    1092\n",
      "education_Master        1841\n",
      "education_PhD           1729\n",
      "MntTotal                   0\n",
      "MntRegularProds            0\n",
      "AcceptedCmpOverall         0\n",
      "marital_status             0\n",
      "education_level            0\n",
      "kids                       0\n",
      "expenses                   0\n",
      "dtype: int64\n"
     ]
    }
   ],
   "source": [
    "print(df.isnull().sum())"
   ]
  },
  {
   "cell_type": "markdown",
   "metadata": {},
   "source": [
    "*Os valores nulos indicados anteriormente podem sugerir que a pessoa não possui a característica específica mencionada.*"
   ]
  },
  {
   "cell_type": "markdown",
   "metadata": {},
   "source": [
    "### Qual é a média, mediana, 25 percentil, 75 percentil, mínimo e máximo das colunas income, kids e expenses? ###"
   ]
  },
  {
   "cell_type": "code",
   "execution_count": 259,
   "metadata": {},
   "outputs": [
    {
     "data": {
      "text/html": [
       "<div>\n",
       "<style scoped>\n",
       "    .dataframe tbody tr th:only-of-type {\n",
       "        vertical-align: middle;\n",
       "    }\n",
       "\n",
       "    .dataframe tbody tr th {\n",
       "        vertical-align: top;\n",
       "    }\n",
       "\n",
       "    .dataframe thead th {\n",
       "        text-align: right;\n",
       "    }\n",
       "</style>\n",
       "<table border=\"1\" class=\"dataframe\">\n",
       "  <thead>\n",
       "    <tr style=\"text-align: right;\">\n",
       "      <th></th>\n",
       "      <th>kids</th>\n",
       "      <th>Income</th>\n",
       "      <th>expenses</th>\n",
       "    </tr>\n",
       "  </thead>\n",
       "  <tbody>\n",
       "    <tr>\n",
       "      <th>count</th>\n",
       "      <td>2205.000000</td>\n",
       "      <td>2205.000000</td>\n",
       "      <td>2205.000000</td>\n",
       "    </tr>\n",
       "    <tr>\n",
       "      <th>mean</th>\n",
       "      <td>0.948753</td>\n",
       "      <td>51622.094785</td>\n",
       "      <td>562.764626</td>\n",
       "    </tr>\n",
       "    <tr>\n",
       "      <th>std</th>\n",
       "      <td>0.749231</td>\n",
       "      <td>20713.063826</td>\n",
       "      <td>575.936911</td>\n",
       "    </tr>\n",
       "    <tr>\n",
       "      <th>min</th>\n",
       "      <td>0.000000</td>\n",
       "      <td>1730.000000</td>\n",
       "      <td>4.000000</td>\n",
       "    </tr>\n",
       "    <tr>\n",
       "      <th>25%</th>\n",
       "      <td>0.000000</td>\n",
       "      <td>35196.000000</td>\n",
       "      <td>56.000000</td>\n",
       "    </tr>\n",
       "    <tr>\n",
       "      <th>50%</th>\n",
       "      <td>1.000000</td>\n",
       "      <td>51287.000000</td>\n",
       "      <td>343.000000</td>\n",
       "    </tr>\n",
       "    <tr>\n",
       "      <th>75%</th>\n",
       "      <td>1.000000</td>\n",
       "      <td>68281.000000</td>\n",
       "      <td>964.000000</td>\n",
       "    </tr>\n",
       "    <tr>\n",
       "      <th>max</th>\n",
       "      <td>3.000000</td>\n",
       "      <td>113734.000000</td>\n",
       "      <td>2491.000000</td>\n",
       "    </tr>\n",
       "  </tbody>\n",
       "</table>\n",
       "</div>"
      ],
      "text/plain": [
       "              kids         Income     expenses\n",
       "count  2205.000000    2205.000000  2205.000000\n",
       "mean      0.948753   51622.094785   562.764626\n",
       "std       0.749231   20713.063826   575.936911\n",
       "min       0.000000    1730.000000     4.000000\n",
       "25%       0.000000   35196.000000    56.000000\n",
       "50%       1.000000   51287.000000   343.000000\n",
       "75%       1.000000   68281.000000   964.000000\n",
       "max       3.000000  113734.000000  2491.000000"
      ]
     },
     "execution_count": 259,
     "metadata": {},
     "output_type": "execute_result"
    }
   ],
   "source": [
    "# Analise estatistica das colunas\n",
    "df[[\"kids\", \"Income\", \"expenses\"]].describe()"
   ]
  },
  {
   "cell_type": "markdown",
   "metadata": {},
   "source": [
    "### Qual é o maior salário encontrado na nossa base? Veja na coluna Income ###"
   ]
  },
  {
   "cell_type": "code",
   "execution_count": 260,
   "metadata": {},
   "outputs": [
    {
     "name": "stdout",
     "output_type": "stream",
     "text": [
      "O maior salário encontrado na base é: 113734\n"
     ]
    }
   ],
   "source": [
    "# Maior salario da coluna Income\n",
    "maior_salario = df['Income'].max()\n",
    "print(f\"O maior salário encontrado na base é: {maior_salario}\")\n"
   ]
  },
  {
   "cell_type": "markdown",
   "metadata": {},
   "source": [
    "### Qual é a distribuição de salário na nossa base? Temos clientes que ganham muito bem e outros que não ganham muito bem? Veja na coluna Income ###"
   ]
  },
  {
   "cell_type": "code",
   "execution_count": 261,
   "metadata": {},
   "outputs": [
    {
     "data": {
      "text/plain": [
       "<Axes: >"
      ]
     },
     "execution_count": 261,
     "metadata": {},
     "output_type": "execute_result"
    },
    {
     "data": {
      "image/png": "[encoded data removed]",
      "text/plain": [
       "<Figure size 640x480 with 1 Axes>"
      ]
     },
     "metadata": {},
     "output_type": "display_data"
    }
   ],
   "source": [
    "#vendo o histograma - vocês podem usar a biblioteca PLOTLY também\n",
    "df[\"Income\"].hist()\n"
   ]
  },
  {
   "cell_type": "code",
   "execution_count": 262,
   "metadata": {},
   "outputs": [],
   "source": [
    "# Plotly e ambiente de execução  \n",
    "import plotly.io as pio\n",
    "pio.renderers.default = 'browser'\n"
   ]
  },
  {
   "cell_type": "code",
   "execution_count": 263,
   "metadata": {},
   "outputs": [],
   "source": [
    "#Plotly.express\n",
    "import plotly.express as px\n",
    "fig = px.histogram(df, x=\"Income\", title=\"Histograma da Coluna Income\")\n",
    "fig.show()\n",
    "\n"
   ]
  },
  {
   "cell_type": "code",
   "execution_count": 264,
   "metadata": {},
   "outputs": [
    {
     "data": {
      "text/plain": [
       "<Axes: ylabel='Income'>"
      ]
     },
     "execution_count": 264,
     "metadata": {},
     "output_type": "execute_result"
    },
    {
     "data": {
      "image/png": "[encoded data removed]",
      "text/plain": [
       "<Figure size 640x480 with 1 Axes>"
      ]
     },
     "metadata": {},
     "output_type": "display_data"
    }
   ],
   "source": [
    "#Boxplot\n",
    "sns.boxplot(df[\"Income\"])"
   ]
  },
  {
   "cell_type": "markdown",
   "metadata": {},
   "source": [
    " ### Coeficiente de Variação medida a que fornece uma compreensão relativa da variabilidade dos dados ###\n",
    " "
   ]
  },
  {
   "cell_type": "code",
   "execution_count": 265,
   "metadata": {},
   "outputs": [
    {
     "data": {
      "text/plain": [
       "np.float64(0.4012441554786958)"
      ]
     },
     "execution_count": 265,
     "metadata": {},
     "output_type": "execute_result"
    }
   ],
   "source": [
    "# calcular o coeficiente de variação\n",
    "df[\"Income\"].std()/df[\"Income\"].mean()"
   ]
  },
  {
   "cell_type": "markdown",
   "metadata": {},
   "source": [
    "## O skewness mede a assimetria da distribuição dos dados em relação à média. ###\n",
    "#### valor positivo indica (assimetria positiva) ####\n",
    "#### valor negativo indica (assimetria negativo) ####\n",
    "#### próximo de 0, a distribuição é aproximadamente simétrica ####"
   ]
  },
  {
   "cell_type": "code",
   "execution_count": 266,
   "metadata": {},
   "outputs": [
    {
     "data": {
      "text/plain": [
       "np.float64(0.013164263414417078)"
      ]
     },
     "execution_count": 266,
     "metadata": {},
     "output_type": "execute_result"
    }
   ],
   "source": [
    "#skew da coluna Income\n",
    "df[\"Income\"].skew()"
   ]
  },
  {
   "cell_type": "markdown",
   "metadata": {},
   "source": [
    "## Nossos clientes tem níveis de educação maiores ou menores? Veja na coluna education_level ##"
   ]
  },
  {
   "cell_type": "code",
   "execution_count": 267,
   "metadata": {},
   "outputs": [
    {
     "name": "stdout",
     "output_type": "stream",
     "text": [
      "education_level\n",
      "Graduation    1113\n",
      "PhD            476\n",
      "Master         364\n",
      "2n Cycle       198\n",
      "Basic           54\n",
      "Name: count, dtype: int64\n"
     ]
    }
   ],
   "source": [
    "# Contar a frequência de cada nível de educação\n",
    "nivel_educacao_count = df['education_level'].value_counts()\n",
    "\n",
    "# Mostrar a distribuição\n",
    "print(nivel_educacao_count)\n"
   ]
  },
  {
   "cell_type": "code",
   "execution_count": 268,
   "metadata": {},
   "outputs": [],
   "source": [
    "# Analise em gráfico de contagem\n",
    "import plotly.express as px\n",
    "\n",
    "# Contar a frequência de cada nível de educação\n",
    "nivel_educacao_count = df['education_level'].value_counts()\n",
    "\n",
    "# Criar um DataFrame para o gráfico\n",
    "df_educacao = nivel_educacao_count.reset_index()\n",
    "df_educacao.columns = ['Education Level', 'Count']\n",
    "\n",
    "# Criar o gráfico de barras\n",
    "fig = px.bar(df_educacao, x='Education Level', y='Count', title='Distribuição dos Níveis de Educação dos Clientes')\n",
    "\n",
    "# Exibir o gráfico\n",
    "fig.show()\n",
    "\n"
   ]
  },
  {
   "cell_type": "markdown",
   "metadata": {},
   "source": [
    "*A maioria dos clientes possuem graduação, em menor número possuem nível básico, podemos afirmar que nosso clientes em sua maioria possuem níveis superioes em educação* "
   ]
  },
  {
   "cell_type": "markdown",
   "metadata": {},
   "source": [
    "### Quantos clientes temos em cada estado civil? Veja na coluna marital_status ###"
   ]
  },
  {
   "cell_type": "code",
   "execution_count": 269,
   "metadata": {},
   "outputs": [
    {
     "name": "stdout",
     "output_type": "stream",
     "text": [
      "marital_status\n",
      "Married     854\n",
      "Together    568\n",
      "Single      477\n",
      "Divorced    230\n",
      "Widow        76\n",
      "Name: count, dtype: int64\n"
     ]
    }
   ],
   "source": [
    "# Contar o número de clientes em cada estado civil\n",
    "estado_civil_count = df['marital_status'].value_counts()\n",
    "\n",
    "# Exibir a contagem\n",
    "print(estado_civil_count)\n"
   ]
  },
  {
   "cell_type": "code",
   "execution_count": 270,
   "metadata": {},
   "outputs": [],
   "source": [
    "import plotly.express as px\n",
    "\n",
    "# Contar o número de clientes em cada estado civil\n",
    "estado_civil_count = df['marital_status'].value_counts()\n",
    "\n",
    "# Criar um DataFrame para o gráfico\n",
    "df_estado_civil = estado_civil_count.reset_index()\n",
    "df_estado_civil.columns = ['Marital Status', 'Count']\n",
    "\n",
    "# Criar o gráfico de barras\n",
    "fig = px.bar(df_estado_civil, x='Marital Status', y='Count', title='Número de Clientes por Estado Civil')\n",
    "\n",
    "# Exibir o gráfico\n",
    "fig.show()\n"
   ]
  },
  {
   "cell_type": "markdown",
   "metadata": {},
   "source": [
    "### Qual é a relação de estado civil com número de filhos? Será que as pessoas casadas têm um maior número de filhos? Filhos está na coluna kids ###"
   ]
  },
  {
   "cell_type": "code",
   "execution_count": 271,
   "metadata": {},
   "outputs": [
    {
     "name": "stdout",
     "output_type": "stream",
     "text": [
      "  marital_status      kids\n",
      "0       Divorced  1.008696\n",
      "1        Married  0.967213\n",
      "2         Single  0.859539\n",
      "3       Together  0.980634\n",
      "4          Widow  0.881579\n"
     ]
    }
   ],
   "source": [
    "import pandas as pd\n",
    "\n",
    "# Calcular a média de filhos por estado civil\n",
    "estado_civil_kids = df.groupby('marital_status')['kids'].mean().reset_index()\n",
    "\n",
    "# Exibir os resultados\n",
    "print(estado_civil_kids)\n"
   ]
  },
  {
   "cell_type": "code",
   "execution_count": 273,
   "metadata": {},
   "outputs": [],
   "source": [
    "import plotly.express as px\n",
    "\n",
    "#Criar o gráfico de barras\n",
    "fig = px.bar(estado_civil_kids, x='marital_status', y='kids', title='Média de Número de Filhos por Estado Civil')\n",
    "\n",
    "# Exibir o gráfico\n",
    "fig.show()\n"
   ]
  },
  {
   "cell_type": "code",
   "execution_count": 274,
   "metadata": {},
   "outputs": [
    {
     "data": {
      "text/plain": [
       "marital_status\n",
       "Divorced    1.0\n",
       "Married     1.0\n",
       "Single      1.0\n",
       "Together    1.0\n",
       "Widow       1.0\n",
       "Name: kids, dtype: float64"
      ]
     },
     "execution_count": 274,
     "metadata": {},
     "output_type": "execute_result"
    }
   ],
   "source": [
    "#Mediana de filhos por status de união\n",
    "df.groupby(\"marital_status\")[\"kids\"].median()"
   ]
  },
  {
   "cell_type": "markdown",
   "metadata": {},
   "source": [
    "### As pessoas gastam mais ou menos em nossa plataforma quando têm filhos? Veja nas colunas expenses e kids ###"
   ]
  },
  {
   "cell_type": "code",
   "execution_count": 275,
   "metadata": {},
   "outputs": [
    {
     "name": "stdout",
     "output_type": "stream",
     "text": [
      "   kids     expenses\n",
      "0     0  1041.207006\n",
      "1     1   434.530576\n",
      "2     2   221.568675\n",
      "3     3   237.380000\n"
     ]
    }
   ],
   "source": [
    "import pandas as pd\n",
    "\n",
    "# Calculo para média de gastos por número de filhos\n",
    "kids_expenses = df.groupby('kids')['expenses'].mean().reset_index()\n",
    "\n",
    "# Exibir os resultados\n",
    "print(kids_expenses)\n"
   ]
  },
  {
   "cell_type": "code",
   "execution_count": 276,
   "metadata": {},
   "outputs": [
    {
     "data": {
      "text/plain": [
       "kids\n",
       "0    1106.5\n",
       "1     264.0\n",
       "2      84.0\n",
       "3      62.0\n",
       "Name: expenses, dtype: float64"
      ]
     },
     "execution_count": 276,
     "metadata": {},
     "output_type": "execute_result"
    }
   ],
   "source": [
    "#calculo para mediana\n",
    "df.groupby(\"kids\")[\"expenses\"].median()"
   ]
  },
  {
   "cell_type": "code",
   "execution_count": 277,
   "metadata": {},
   "outputs": [],
   "source": [
    "import plotly.express as px\n",
    "\n",
    "# Criar o gráfico de dispersão\n",
    "fig = px.scatter(df, x='kids', y='expenses', title='Relação entre Número de Filhos e Gastos')\n",
    "\n",
    "# Exibir o gráfico\n",
    "fig.show()\n"
   ]
  },
  {
   "cell_type": "markdown",
   "metadata": {},
   "source": [
    "*Para grupos com 0 e 1 filho, tanto a média quanto a mediana são mais elevadas. No entanto, a média e a mediana são bastante próximas, sugerindo uma distribuição menos afetada por outliers significativos.*\n",
    "\n",
    "*Para o grupo com 2 filhos, a média é menor do que a do grupo com 3 filhos, embora a mediana do grupo com 2 filhos seja maior do que a do grupo com 3 filhos. Isso sugere que, apesar de uma média mais baixa, o grupo com 2 filhos tem uma distribuição de gastos mais concentrada em valores maiores, possivelmente com menos variação extrema.*\n",
    "\n",
    "*Para os grupos com 2 e 3 filhos, a diferença entre a média e a mediana indica a presença de outliers superiores significativos. A média é mais afetada por valores extremos do que a mediana, o que pode ser visualizado nos gráficos.*\n",
    "\n",
    "*O grupo com 0 filhos apresenta uma distribuição que é um pouco mais próxima de uma normal, com menos outliers extremos e uma mediana mais centrada, conforme mostrado pelo plotly.*"
   ]
  },
  {
   "cell_type": "markdown",
   "metadata": {},
   "source": []
  },
  {
   "cell_type": "markdown",
   "metadata": {},
   "source": [
    "### Pessoas que têm um maior salário gastam mais? Veja nas colunas Income e expenses ###"
   ]
  },
  {
   "cell_type": "code",
   "execution_count": 278,
   "metadata": {},
   "outputs": [
    {
     "data": {
      "image/png": "[encoded data removed]",
      "text/plain": [
       "<Figure size 640x480 with 1 Axes>"
      ]
     },
     "metadata": {},
     "output_type": "display_data"
    }
   ],
   "source": [
    "plt.scatter(df[\"expenses\"], df[\"Income\"])\n",
    "plt.show()"
   ]
  },
  {
   "cell_type": "code",
   "execution_count": 279,
   "metadata": {},
   "outputs": [
    {
     "data": {
      "text/plain": [
       "np.float64(0.8230660021398378)"
      ]
     },
     "execution_count": 279,
     "metadata": {},
     "output_type": "execute_result"
    }
   ],
   "source": [
    "df[\"expenses\"].corr(df[\"Income\"])"
   ]
  },
  {
   "cell_type": "markdown",
   "metadata": {},
   "source": [
    "*O resultado da correlação de pearson é: 0.82.*\n",
    "\n",
    "*Existe uma correlação proporcional a qual as pessoas que ganham melhor tendem as gastar mais*"
   ]
  }
 ],
 "metadata": {
  "kernelspec": {
   "display_name": "Python 3",
   "language": "python",
   "name": "python3"
  },
  "language_info": {
   "codemirror_mode": {
    "name": "ipython",
    "version": 3
   },
   "file_extension": ".py",
   "mimetype": "text/x-python",
   "name": "python",
   "nbconvert_exporter": "python",
   "pygments_lexer": "ipython3",
   "version": "3.11.9"
  }
 },
 "nbformat": 4,
 "nbformat_minor": 2
}
